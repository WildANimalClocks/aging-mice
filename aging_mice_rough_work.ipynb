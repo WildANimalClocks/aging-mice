{
 "cells": [
  {
   "cell_type": "code",
   "execution_count": 14,
   "metadata": {},
   "outputs": [],
   "source": [
    "from Bio import SeqIO\n",
    "from Bio import Seq"
   ]
  },
  {
   "cell_type": "code",
   "execution_count": 21,
   "metadata": {},
   "outputs": [
    {
     "name": "stdout",
     "output_type": "stream",
     "text": [
      "466bb915-9e23-4197-9822-ed8bc0b62235\n",
      "[SeqRecord(seq=Seq('ACAGGTTAAGGTCTACCTCACTAACACACTGCAGCACCTGGTTTTTATTTTTGT...AAC', SingleLetterAlphabet()), id='466bb915-9e23-4197-9822-ed8bc0b62235', name='466bb915-9e23-4197-9822-ed8bc0b62235', description='466bb915-9e23-4197-9822-ed8bc0b62235 runid=b9cabbacc409d8ac5bcba13d133da2bf132b74e4 read=40 ch=10 start_time=2019-10-11T14:30:17Z flow_cell_id=ABB311 protocol_group_id=Validation_Apo_set sample_id=Validation barcode=NB15', dbxrefs=[])]\n",
      "a2b12dc5-f7c3-48af-98e2-e968a25ee763\n",
      "[SeqRecord(seq=Seq('ACAGGTTAAGGTCTACCTCACTAACACACTGCAGCACCTGGTTTTTATTTTTGT...AAC', SingleLetterAlphabet()), id='466bb915-9e23-4197-9822-ed8bc0b62235', name='466bb915-9e23-4197-9822-ed8bc0b62235', description='466bb915-9e23-4197-9822-ed8bc0b62235 runid=b9cabbacc409d8ac5bcba13d133da2bf132b74e4 read=40 ch=10 start_time=2019-10-11T14:30:17Z flow_cell_id=ABB311 protocol_group_id=Validation_Apo_set sample_id=Validation barcode=NB15', dbxrefs=[]), SeqRecord(seq=Seq('GCGTACTTCGTTCCAGGTTAAAAGGTCTACCTCGCTAACACCACTGCAGCACCT...ACT', SingleLetterAlphabet()), id='a2b12dc5-f7c3-48af-98e2-e968a25ee763', name='a2b12dc5-f7c3-48af-98e2-e968a25ee763', description='a2b12dc5-f7c3-48af-98e2-e968a25ee763 runid=b9cabbacc409d8ac5bcba13d133da2bf132b74e4 read=62 ch=96 start_time=2019-10-11T14:31:16Z flow_cell_id=ABB311 protocol_group_id=Validation_Apo_set sample_id=Validation barcode=NB15', dbxrefs=[])]\n",
      "6705ce20-a475-4ffe-8e92-0701ba81e040\n",
      "[SeqRecord(seq=Seq('ACAGGTTAAGGTCTACCTCACTAACACACTGCAGCACCTGGTTTTTATTTTTGT...AAC', SingleLetterAlphabet()), id='466bb915-9e23-4197-9822-ed8bc0b62235', name='466bb915-9e23-4197-9822-ed8bc0b62235', description='466bb915-9e23-4197-9822-ed8bc0b62235 runid=b9cabbacc409d8ac5bcba13d133da2bf132b74e4 read=40 ch=10 start_time=2019-10-11T14:30:17Z flow_cell_id=ABB311 protocol_group_id=Validation_Apo_set sample_id=Validation barcode=NB15', dbxrefs=[]), SeqRecord(seq=Seq('GCGTACTTCGTTCCAGGTTAAAAGGTCTACCTCGCTAACACCACTGCAGCACCT...ACT', SingleLetterAlphabet()), id='a2b12dc5-f7c3-48af-98e2-e968a25ee763', name='a2b12dc5-f7c3-48af-98e2-e968a25ee763', description='a2b12dc5-f7c3-48af-98e2-e968a25ee763 runid=b9cabbacc409d8ac5bcba13d133da2bf132b74e4 read=62 ch=96 start_time=2019-10-11T14:31:16Z flow_cell_id=ABB311 protocol_group_id=Validation_Apo_set sample_id=Validation barcode=NB15', dbxrefs=[]), SeqRecord(seq=Seq('GAGTTCAGGTCTACCTCTTCTTCACTGCAGCACCCTATCCACACAAAAACAAAA...TGT', SingleLetterAlphabet()), id='6705ce20-a475-4ffe-8e92-0701ba81e040', name='6705ce20-a475-4ffe-8e92-0701ba81e040', description='6705ce20-a475-4ffe-8e92-0701ba81e040 runid=b9cabbacc409d8ac5bcba13d133da2bf132b74e4 read=91 ch=41 start_time=2019-10-11T14:31:21Z flow_cell_id=ABB311 protocol_group_id=Validation_Apo_set sample_id=Validation barcode=NB15', dbxrefs=[])]\n",
      "5b434ac3-1c33-4b03-9165-6c4da21d5bed\n",
      "[SeqRecord(seq=Seq('ACAGGTTAAGGTCTACCTCACTAACACACTGCAGCACCTGGTTTTTATTTTTGT...AAC', SingleLetterAlphabet()), id='466bb915-9e23-4197-9822-ed8bc0b62235', name='466bb915-9e23-4197-9822-ed8bc0b62235', description='466bb915-9e23-4197-9822-ed8bc0b62235 runid=b9cabbacc409d8ac5bcba13d133da2bf132b74e4 read=40 ch=10 start_time=2019-10-11T14:30:17Z flow_cell_id=ABB311 protocol_group_id=Validation_Apo_set sample_id=Validation barcode=NB15', dbxrefs=[]), SeqRecord(seq=Seq('GCGTACTTCGTTCCAGGTTAAAAGGTCTACCTCGCTAACACCACTGCAGCACCT...ACT', SingleLetterAlphabet()), id='a2b12dc5-f7c3-48af-98e2-e968a25ee763', name='a2b12dc5-f7c3-48af-98e2-e968a25ee763', description='a2b12dc5-f7c3-48af-98e2-e968a25ee763 runid=b9cabbacc409d8ac5bcba13d133da2bf132b74e4 read=62 ch=96 start_time=2019-10-11T14:31:16Z flow_cell_id=ABB311 protocol_group_id=Validation_Apo_set sample_id=Validation barcode=NB15', dbxrefs=[]), SeqRecord(seq=Seq('GAGTTCAGGTCTACCTCTTCTTCACTGCAGCACCCTATCCACACAAAAACAAAA...TGT', SingleLetterAlphabet()), id='6705ce20-a475-4ffe-8e92-0701ba81e040', name='6705ce20-a475-4ffe-8e92-0701ba81e040', description='6705ce20-a475-4ffe-8e92-0701ba81e040 runid=b9cabbacc409d8ac5bcba13d133da2bf132b74e4 read=91 ch=41 start_time=2019-10-11T14:31:21Z flow_cell_id=ABB311 protocol_group_id=Validation_Apo_set sample_id=Validation barcode=NB15', dbxrefs=[]), SeqRecord(seq=Seq('CAATGTACTTCGTTCAGGTTAAAGGTCTGCCTCGCTAACACCACTGCAGCACCT...AGC', SingleLetterAlphabet()), id='5b434ac3-1c33-4b03-9165-6c4da21d5bed', name='5b434ac3-1c33-4b03-9165-6c4da21d5bed', description='5b434ac3-1c33-4b03-9165-6c4da21d5bed runid=b9cabbacc409d8ac5bcba13d133da2bf132b74e4 read=126 ch=103 start_time=2019-10-11T14:31:42Z flow_cell_id=ABB311 protocol_group_id=Validation_Apo_set sample_id=Validation barcode=NB15', dbxrefs=[])]\n"
     ]
    }
   ],
   "source": [
    "c = 0\n",
    "new_seqs = []\n",
    "for record in SeqIO.parse(\"./processed_reads/demultiplexed_reads/NB15.fastq\",\"fastq\"):\n",
    "    c +=1\n",
    "    if c <5: \n",
    "        \n",
    "        print(record.id)\n",
    "        new_seqs.append(record)\n",
    "        \n",
    "        print(new_seqs)\n",
    "    "
   ]
  },
  {
   "cell_type": "code",
   "execution_count": 23,
   "metadata": {},
   "outputs": [],
   "source": [
    "import matplotlib as mpl\n",
    "from matplotlib import pyplot as plt\n",
    "import pandas as pd"
   ]
  },
  {
   "cell_type": "code",
   "execution_count": 37,
   "metadata": {},
   "outputs": [],
   "source": [
    "data = pd.read_csv(\"./processed_reads/demultiplexed_reads/NB01.csv\",header=None)\n",
    "data2 = pd.read_csv(\"./processed_reads/demultiplexed_reads/NB02.csv\",header=None)\n",
    "# data3 = pd.read_csv(\"./processed_reads/demultiplexed_reads/NB03.csv\",header=None)\n",
    "# data4 = pd.read_csv(\"./processed_reads/demultiplexed_reads/NB04.csv\",header=None)\n"
   ]
  },
  {
   "cell_type": "code",
   "execution_count": 39,
   "metadata": {},
   "outputs": [
    {
     "data": {
      "text/plain": [
       "Text(0, 0.5, 'Read Count')"
      ]
     },
     "execution_count": 39,
     "metadata": {},
     "output_type": "execute_result"
    },
    {
     "data": {
      "image/png": "[encoded data removed]",
      "text/plain": [
       "<Figure size 432x288 with 1 Axes>"
      ]
     },
     "metadata": {
      "needs_background": "light"
     },
     "output_type": "display_data"
    }
   ],
   "source": [
    "plt.hist(data[1], bins=30)\n",
    "# plt.hist(data2[1], bins=30)\n",
    "# plt.hist(data3[1], bins=30)\n",
    "# plt.hist(data4[1], bins=30)\n",
    "\n",
    "plt.xlabel(\"Alignment Identity (%)\")\n",
    "plt.ylabel(\"Read Count\")"
   ]
  },
  {
   "cell_type": "code",
   "execution_count": 56,
   "metadata": {},
   "outputs": [
    {
     "name": "stdout",
     "output_type": "stream",
     "text": [
      "gm7_1 {'C': 4, 'T': 8}\n",
      "gm7_1\tC\t4\tT\t8\t\n",
      "gm7_2 {'C': 3, 'T': 10}\n",
      "gm7_2\tC\t3\tT\t10\t\n"
     ]
    }
   ],
   "source": [
    "cpg_counts = {\"gm7_1\":{\"C\":4,\"T\":8},\"gm7_2\":{\"C\":3,\"T\":10}}\n",
    "for i in cpg_counts:\n",
    "    x = [j for j in cpg_counts[i]]\n",
    "    y = [cpg_counts[i][j] for j in cpg_counts[i]]\n",
    "    print_string = i + '\\t'\n",
    "    for index in range(len(x)):\n",
    "        print_string += f\"{x[index]}\\t{y[index]}\\t\"\n",
    "    print(print_string)"
   ]
  },
  {
   "cell_type": "code",
   "execution_count": 60,
   "metadata": {},
   "outputs": [],
   "source": [
    "demux_counts = pd.read_csv(\"./processed_reads/demux_counts.csv\")"
   ]
  },
  {
   "cell_type": "code",
   "execution_count": 69,
   "metadata": {},
   "outputs": [
    {
     "data": {
      "text/plain": [
       "<BarContainer object of 25 artists>"
      ]
     },
     "execution_count": 69,
     "metadata": {},
     "output_type": "execute_result"
    },
    {
     "data": {
      "image/png": "[encoded data removed]",
      "text/plain": [
       "<Figure size 1008x720 with 1 Axes>"
      ]
     },
     "metadata": {
      "needs_background": "light"
     },
     "output_type": "display_data"
    }
   ],
   "source": [
    "plt.figure(figsize=[14,10])\n",
    "# mpl.RcParams(font.size=14)\n",
    "plt.bar(demux_counts[\"barcode\"],demux_counts[\"count\"])"
   ]
  },
  {
   "cell_type": "code",
   "execution_count": null,
   "metadata": {},
   "outputs": [],
   "source": []
  }
 ],
 "metadata": {
  "kernelspec": {
   "display_name": "Python 3",
   "language": "python",
   "name": "python3"
  },
  "language_info": {
   "codemirror_mode": {
    "name": "ipython",
    "version": 3
   },
   "file_extension": ".py",
   "mimetype": "text/x-python",
   "name": "python",
   "nbconvert_exporter": "python",
   "pygments_lexer": "ipython3",
   "version": "3.7.3"
  }
 },
 "nbformat": 4,
 "nbformat_minor": 2
}
